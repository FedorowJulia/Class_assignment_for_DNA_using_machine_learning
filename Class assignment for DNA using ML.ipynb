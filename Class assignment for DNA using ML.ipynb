{
  "cells": [
    {
      "cell_type": "markdown",
      "id": "10b03323",
      "metadata": {
        "id": "10b03323"
      },
      "source": [
        "IMPORTING NECESSARY LIBRARIES"
      ]
    },
    {
      "cell_type": "code",
      "execution_count": null,
      "id": "9f3591c1",
      "metadata": {
        "id": "9f3591c1"
      },
      "outputs": [],
      "source": [
        "import pandas as pd\n",
        "import numpy as np\n",
        "import seaborn as sns\n",
        "import matplotlib.pyplot as plt\n",
        "from sklearn.feature_extraction.text import TfidfVectorizer\n",
        "from sklearn.model_selection import train_test_split\n",
        "from sklearn.naive_bayes import MultinomialNB\n",
        "from sklearn.metrics import accuracy_score, f1_score, precision_score, recall_score, confusion_matrix"
      ]
    },
    {
      "cell_type": "markdown",
      "id": "a1477dc1",
      "metadata": {
        "id": "a1477dc1"
      },
      "source": [
        "READING DATA"
      ]
    },
    {
      "cell_type": "code",
      "execution_count": null,
      "id": "663f6578",
      "metadata": {
        "id": "663f6578"
      },
      "outputs": [],
      "source": [
        "PATH='/content' #CHANGE TO YOUR FOLDER WITH DATA\n",
        "human_data=pd.read_table(PATH+'/human.txt')\n",
        "dog_data=pd.read_table(PATH+'/dog.txt')\n",
        "chimpanzee_data=pd.read_table(PATH+'/chimpanzee.txt')"
      ]
    },
    {
      "cell_type": "markdown",
      "id": "285b3427",
      "metadata": {
        "id": "285b3427"
      },
      "source": [
        "SHORT EXPLORATORY DATA ANALYSIS"
      ]
    },
    {
      "cell_type": "code",
      "execution_count": null,
      "id": "27d6f2f2",
      "metadata": {
        "colab": {
          "base_uri": "https://localhost:8080/",
          "height": 206
        },
        "id": "27d6f2f2",
        "outputId": "8c43646a-1021-4761-a98c-65e3710db91b"
      },
      "outputs": [
        {
          "output_type": "execute_result",
          "data": {
            "text/plain": [
              "                                            sequence  class\n",
              "0  ATGCCCCAACTAAATACTACCGTATGGCCCACCATAATTACCCCCA...      4\n",
              "1  ATGAACGAAAATCTGTTCGCTTCATTCATTGCCCCCACAATCCTAG...      4\n",
              "2  ATGTGTGGCATTTGGGCGCTGTTTGGCAGTGATGATTGCCTTTCTG...      3\n",
              "3  ATGTGTGGCATTTGGGCGCTGTTTGGCAGTGATGATTGCCTTTCTG...      3\n",
              "4  ATGCAACAGCATTTTGAATTTGAATACCAGACCAAAGTGGATGGTG...      3"
            ],
            "text/html": [
              "\n",
              "  <div id=\"df-449c5157-fc7c-4887-8dcc-ddef59c710f4\">\n",
              "    <div class=\"colab-df-container\">\n",
              "      <div>\n",
              "<style scoped>\n",
              "    .dataframe tbody tr th:only-of-type {\n",
              "        vertical-align: middle;\n",
              "    }\n",
              "\n",
              "    .dataframe tbody tr th {\n",
              "        vertical-align: top;\n",
              "    }\n",
              "\n",
              "    .dataframe thead th {\n",
              "        text-align: right;\n",
              "    }\n",
              "</style>\n",
              "<table border=\"1\" class=\"dataframe\">\n",
              "  <thead>\n",
              "    <tr style=\"text-align: right;\">\n",
              "      <th></th>\n",
              "      <th>sequence</th>\n",
              "      <th>class</th>\n",
              "    </tr>\n",
              "  </thead>\n",
              "  <tbody>\n",
              "    <tr>\n",
              "      <th>0</th>\n",
              "      <td>ATGCCCCAACTAAATACTACCGTATGGCCCACCATAATTACCCCCA...</td>\n",
              "      <td>4</td>\n",
              "    </tr>\n",
              "    <tr>\n",
              "      <th>1</th>\n",
              "      <td>ATGAACGAAAATCTGTTCGCTTCATTCATTGCCCCCACAATCCTAG...</td>\n",
              "      <td>4</td>\n",
              "    </tr>\n",
              "    <tr>\n",
              "      <th>2</th>\n",
              "      <td>ATGTGTGGCATTTGGGCGCTGTTTGGCAGTGATGATTGCCTTTCTG...</td>\n",
              "      <td>3</td>\n",
              "    </tr>\n",
              "    <tr>\n",
              "      <th>3</th>\n",
              "      <td>ATGTGTGGCATTTGGGCGCTGTTTGGCAGTGATGATTGCCTTTCTG...</td>\n",
              "      <td>3</td>\n",
              "    </tr>\n",
              "    <tr>\n",
              "      <th>4</th>\n",
              "      <td>ATGCAACAGCATTTTGAATTTGAATACCAGACCAAAGTGGATGGTG...</td>\n",
              "      <td>3</td>\n",
              "    </tr>\n",
              "  </tbody>\n",
              "</table>\n",
              "</div>\n",
              "      <button class=\"colab-df-convert\" onclick=\"convertToInteractive('df-449c5157-fc7c-4887-8dcc-ddef59c710f4')\"\n",
              "              title=\"Convert this dataframe to an interactive table.\"\n",
              "              style=\"display:none;\">\n",
              "        \n",
              "  <svg xmlns=\"http://www.w3.org/2000/svg\" height=\"24px\"viewBox=\"0 0 24 24\"\n",
              "       width=\"24px\">\n",
              "    <path d=\"M0 0h24v24H0V0z\" fill=\"none\"/>\n",
              "    <path d=\"M18.56 5.44l.94 2.06.94-2.06 2.06-.94-2.06-.94-.94-2.06-.94 2.06-2.06.94zm-11 1L8.5 8.5l.94-2.06 2.06-.94-2.06-.94L8.5 2.5l-.94 2.06-2.06.94zm10 10l.94 2.06.94-2.06 2.06-.94-2.06-.94-.94-2.06-.94 2.06-2.06.94z\"/><path d=\"M17.41 7.96l-1.37-1.37c-.4-.4-.92-.59-1.43-.59-.52 0-1.04.2-1.43.59L10.3 9.45l-7.72 7.72c-.78.78-.78 2.05 0 2.83L4 21.41c.39.39.9.59 1.41.59.51 0 1.02-.2 1.41-.59l7.78-7.78 2.81-2.81c.8-.78.8-2.07 0-2.86zM5.41 20L4 18.59l7.72-7.72 1.47 1.35L5.41 20z\"/>\n",
              "  </svg>\n",
              "      </button>\n",
              "      \n",
              "  <style>\n",
              "    .colab-df-container {\n",
              "      display:flex;\n",
              "      flex-wrap:wrap;\n",
              "      gap: 12px;\n",
              "    }\n",
              "\n",
              "    .colab-df-convert {\n",
              "      background-color: #E8F0FE;\n",
              "      border: none;\n",
              "      border-radius: 50%;\n",
              "      cursor: pointer;\n",
              "      display: none;\n",
              "      fill: #1967D2;\n",
              "      height: 32px;\n",
              "      padding: 0 0 0 0;\n",
              "      width: 32px;\n",
              "    }\n",
              "\n",
              "    .colab-df-convert:hover {\n",
              "      background-color: #E2EBFA;\n",
              "      box-shadow: 0px 1px 2px rgba(60, 64, 67, 0.3), 0px 1px 3px 1px rgba(60, 64, 67, 0.15);\n",
              "      fill: #174EA6;\n",
              "    }\n",
              "\n",
              "    [theme=dark] .colab-df-convert {\n",
              "      background-color: #3B4455;\n",
              "      fill: #D2E3FC;\n",
              "    }\n",
              "\n",
              "    [theme=dark] .colab-df-convert:hover {\n",
              "      background-color: #434B5C;\n",
              "      box-shadow: 0px 1px 3px 1px rgba(0, 0, 0, 0.15);\n",
              "      filter: drop-shadow(0px 1px 2px rgba(0, 0, 0, 0.3));\n",
              "      fill: #FFFFFF;\n",
              "    }\n",
              "  </style>\n",
              "\n",
              "      <script>\n",
              "        const buttonEl =\n",
              "          document.querySelector('#df-449c5157-fc7c-4887-8dcc-ddef59c710f4 button.colab-df-convert');\n",
              "        buttonEl.style.display =\n",
              "          google.colab.kernel.accessAllowed ? 'block' : 'none';\n",
              "\n",
              "        async function convertToInteractive(key) {\n",
              "          const element = document.querySelector('#df-449c5157-fc7c-4887-8dcc-ddef59c710f4');\n",
              "          const dataTable =\n",
              "            await google.colab.kernel.invokeFunction('convertToInteractive',\n",
              "                                                     [key], {});\n",
              "          if (!dataTable) return;\n",
              "\n",
              "          const docLinkHtml = 'Like what you see? Visit the ' +\n",
              "            '<a target=\"_blank\" href=https://colab.research.google.com/notebooks/data_table.ipynb>data table notebook</a>'\n",
              "            + ' to learn more about interactive tables.';\n",
              "          element.innerHTML = '';\n",
              "          dataTable['output_type'] = 'display_data';\n",
              "          await google.colab.output.renderOutput(dataTable, element);\n",
              "          const docLink = document.createElement('div');\n",
              "          docLink.innerHTML = docLinkHtml;\n",
              "          element.appendChild(docLink);\n",
              "        }\n",
              "      </script>\n",
              "    </div>\n",
              "  </div>\n",
              "  "
            ]
          },
          "metadata": {},
          "execution_count": 6
        }
      ],
      "source": [
        "#printing first 5 rows of human_data\n",
        "human_data.head()"
      ]
    },
    {
      "cell_type": "code",
      "execution_count": null,
      "id": "b90d4f5b",
      "metadata": {
        "id": "b90d4f5b",
        "outputId": "6b5d8aa7-f12b-4075-eaae-bd8e14621fba"
      },
      "outputs": [
        {
          "data": {
            "text/plain": [
              "[Text(0.5, 1.0, 'Classes distribution (human)')]"
            ]
          },
          "execution_count": 137,
          "metadata": {},
          "output_type": "execute_result"
        },
        {
          "data": {
            "image/png": "[encoded data removed]",
            "text/plain": [
              "<Figure size 640x480 with 1 Axes>"
            ]
          },
          "metadata": {},
          "output_type": "display_data"
        }
      ],
      "source": [
        "#checking classes distribution with histogram\n",
        "sns.histplot(data=human_data, x='class').set(title='Classes distribution (human)')"
      ]
    },
    {
      "cell_type": "code",
      "execution_count": null,
      "id": "8468a055",
      "metadata": {
        "colab": {
          "base_uri": "https://localhost:8080/",
          "height": 206
        },
        "id": "8468a055",
        "outputId": "7f58bc6e-3ff8-4267-f6b0-08242ac58bcb"
      },
      "outputs": [
        {
          "output_type": "execute_result",
          "data": {
            "text/plain": [
              "                                            sequence  class  \\\n",
              "0  ATGCCCCAACTAAATACTACCGTATGGCCCACCATAATTACCCCCA...      4   \n",
              "1  ATGAACGAAAATCTGTTCGCTTCATTCATTGCCCCCACAATCCTAG...      4   \n",
              "2  ATGTGTGGCATTTGGGCGCTGTTTGGCAGTGATGATTGCCTTTCTG...      3   \n",
              "3  ATGTGTGGCATTTGGGCGCTGTTTGGCAGTGATGATTGCCTTTCTG...      3   \n",
              "4  ATGCAACAGCATTTTGAATTTGAATACCAGACCAAAGTGGATGGTG...      3   \n",
              "\n",
              "                                               kmers  \n",
              "0  [ATGCC, TGCCC, GCCCC, CCCCA, CCCAA, CCAAC, CAA...  \n",
              "1  [ATGAA, TGAAC, GAACG, AACGA, ACGAA, CGAAA, GAA...  \n",
              "2  [ATGTG, TGTGT, GTGTG, TGTGG, GTGGC, TGGCA, GGC...  \n",
              "3  [ATGTG, TGTGT, GTGTG, TGTGG, GTGGC, TGGCA, GGC...  \n",
              "4  [ATGCA, TGCAA, GCAAC, CAACA, AACAG, ACAGC, CAG...  "
            ],
            "text/html": [
              "\n",
              "  <div id=\"df-85205c1d-418c-4581-9bbd-37fe1a5c31b0\">\n",
              "    <div class=\"colab-df-container\">\n",
              "      <div>\n",
              "<style scoped>\n",
              "    .dataframe tbody tr th:only-of-type {\n",
              "        vertical-align: middle;\n",
              "    }\n",
              "\n",
              "    .dataframe tbody tr th {\n",
              "        vertical-align: top;\n",
              "    }\n",
              "\n",
              "    .dataframe thead th {\n",
              "        text-align: right;\n",
              "    }\n",
              "</style>\n",
              "<table border=\"1\" class=\"dataframe\">\n",
              "  <thead>\n",
              "    <tr style=\"text-align: right;\">\n",
              "      <th></th>\n",
              "      <th>sequence</th>\n",
              "      <th>class</th>\n",
              "      <th>kmers</th>\n",
              "    </tr>\n",
              "  </thead>\n",
              "  <tbody>\n",
              "    <tr>\n",
              "      <th>0</th>\n",
              "      <td>ATGCCCCAACTAAATACTACCGTATGGCCCACCATAATTACCCCCA...</td>\n",
              "      <td>4</td>\n",
              "      <td>[ATGCC, TGCCC, GCCCC, CCCCA, CCCAA, CCAAC, CAA...</td>\n",
              "    </tr>\n",
              "    <tr>\n",
              "      <th>1</th>\n",
              "      <td>ATGAACGAAAATCTGTTCGCTTCATTCATTGCCCCCACAATCCTAG...</td>\n",
              "      <td>4</td>\n",
              "      <td>[ATGAA, TGAAC, GAACG, AACGA, ACGAA, CGAAA, GAA...</td>\n",
              "    </tr>\n",
              "    <tr>\n",
              "      <th>2</th>\n",
              "      <td>ATGTGTGGCATTTGGGCGCTGTTTGGCAGTGATGATTGCCTTTCTG...</td>\n",
              "      <td>3</td>\n",
              "      <td>[ATGTG, TGTGT, GTGTG, TGTGG, GTGGC, TGGCA, GGC...</td>\n",
              "    </tr>\n",
              "    <tr>\n",
              "      <th>3</th>\n",
              "      <td>ATGTGTGGCATTTGGGCGCTGTTTGGCAGTGATGATTGCCTTTCTG...</td>\n",
              "      <td>3</td>\n",
              "      <td>[ATGTG, TGTGT, GTGTG, TGTGG, GTGGC, TGGCA, GGC...</td>\n",
              "    </tr>\n",
              "    <tr>\n",
              "      <th>4</th>\n",
              "      <td>ATGCAACAGCATTTTGAATTTGAATACCAGACCAAAGTGGATGGTG...</td>\n",
              "      <td>3</td>\n",
              "      <td>[ATGCA, TGCAA, GCAAC, CAACA, AACAG, ACAGC, CAG...</td>\n",
              "    </tr>\n",
              "  </tbody>\n",
              "</table>\n",
              "</div>\n",
              "      <button class=\"colab-df-convert\" onclick=\"convertToInteractive('df-85205c1d-418c-4581-9bbd-37fe1a5c31b0')\"\n",
              "              title=\"Convert this dataframe to an interactive table.\"\n",
              "              style=\"display:none;\">\n",
              "        \n",
              "  <svg xmlns=\"http://www.w3.org/2000/svg\" height=\"24px\"viewBox=\"0 0 24 24\"\n",
              "       width=\"24px\">\n",
              "    <path d=\"M0 0h24v24H0V0z\" fill=\"none\"/>\n",
              "    <path d=\"M18.56 5.44l.94 2.06.94-2.06 2.06-.94-2.06-.94-.94-2.06-.94 2.06-2.06.94zm-11 1L8.5 8.5l.94-2.06 2.06-.94-2.06-.94L8.5 2.5l-.94 2.06-2.06.94zm10 10l.94 2.06.94-2.06 2.06-.94-2.06-.94-.94-2.06-.94 2.06-2.06.94z\"/><path d=\"M17.41 7.96l-1.37-1.37c-.4-.4-.92-.59-1.43-.59-.52 0-1.04.2-1.43.59L10.3 9.45l-7.72 7.72c-.78.78-.78 2.05 0 2.83L4 21.41c.39.39.9.59 1.41.59.51 0 1.02-.2 1.41-.59l7.78-7.78 2.81-2.81c.8-.78.8-2.07 0-2.86zM5.41 20L4 18.59l7.72-7.72 1.47 1.35L5.41 20z\"/>\n",
              "  </svg>\n",
              "      </button>\n",
              "      \n",
              "  <style>\n",
              "    .colab-df-container {\n",
              "      display:flex;\n",
              "      flex-wrap:wrap;\n",
              "      gap: 12px;\n",
              "    }\n",
              "\n",
              "    .colab-df-convert {\n",
              "      background-color: #E8F0FE;\n",
              "      border: none;\n",
              "      border-radius: 50%;\n",
              "      cursor: pointer;\n",
              "      display: none;\n",
              "      fill: #1967D2;\n",
              "      height: 32px;\n",
              "      padding: 0 0 0 0;\n",
              "      width: 32px;\n",
              "    }\n",
              "\n",
              "    .colab-df-convert:hover {\n",
              "      background-color: #E2EBFA;\n",
              "      box-shadow: 0px 1px 2px rgba(60, 64, 67, 0.3), 0px 1px 3px 1px rgba(60, 64, 67, 0.15);\n",
              "      fill: #174EA6;\n",
              "    }\n",
              "\n",
              "    [theme=dark] .colab-df-convert {\n",
              "      background-color: #3B4455;\n",
              "      fill: #D2E3FC;\n",
              "    }\n",
              "\n",
              "    [theme=dark] .colab-df-convert:hover {\n",
              "      background-color: #434B5C;\n",
              "      box-shadow: 0px 1px 3px 1px rgba(0, 0, 0, 0.15);\n",
              "      filter: drop-shadow(0px 1px 2px rgba(0, 0, 0, 0.3));\n",
              "      fill: #FFFFFF;\n",
              "    }\n",
              "  </style>\n",
              "\n",
              "      <script>\n",
              "        const buttonEl =\n",
              "          document.querySelector('#df-85205c1d-418c-4581-9bbd-37fe1a5c31b0 button.colab-df-convert');\n",
              "        buttonEl.style.display =\n",
              "          google.colab.kernel.accessAllowed ? 'block' : 'none';\n",
              "\n",
              "        async function convertToInteractive(key) {\n",
              "          const element = document.querySelector('#df-85205c1d-418c-4581-9bbd-37fe1a5c31b0');\n",
              "          const dataTable =\n",
              "            await google.colab.kernel.invokeFunction('convertToInteractive',\n",
              "                                                     [key], {});\n",
              "          if (!dataTable) return;\n",
              "\n",
              "          const docLinkHtml = 'Like what you see? Visit the ' +\n",
              "            '<a target=\"_blank\" href=https://colab.research.google.com/notebooks/data_table.ipynb>data table notebook</a>'\n",
              "            + ' to learn more about interactive tables.';\n",
              "          element.innerHTML = '';\n",
              "          dataTable['output_type'] = 'display_data';\n",
              "          await google.colab.output.renderOutput(dataTable, element);\n",
              "          const docLink = document.createElement('div');\n",
              "          docLink.innerHTML = docLinkHtml;\n",
              "          element.appendChild(docLink);\n",
              "        }\n",
              "      </script>\n",
              "    </div>\n",
              "  </div>\n",
              "  "
            ]
          },
          "metadata": {},
          "execution_count": 31
        }
      ],
      "source": [
        "#printing first 5 rows of dog_data\n",
        "dog_data.head()"
      ]
    },
    {
      "cell_type": "code",
      "execution_count": null,
      "id": "8d114880",
      "metadata": {
        "id": "8d114880",
        "outputId": "d07a431a-9919-49e1-a106-23d55ae17b0d"
      },
      "outputs": [
        {
          "data": {
            "text/plain": [
              "[Text(0.5, 1.0, 'Classes distribution (dog)')]"
            ]
          },
          "execution_count": 139,
          "metadata": {},
          "output_type": "execute_result"
        },
        {
          "data": {
            "image/png": "[encoded data removed]",
            "text/plain": [
              "<Figure size 640x480 with 1 Axes>"
            ]
          },
          "metadata": {},
          "output_type": "display_data"
        }
      ],
      "source": [
        "#checking classes distribution with histogram\n",
        "sns.histplot(data=dog_data, x='class').set(title='Classes distribution (dog)')"
      ]
    },
    {
      "cell_type": "code",
      "execution_count": null,
      "id": "e6072930",
      "metadata": {
        "id": "e6072930",
        "outputId": "8714a91e-fe0d-4e9a-9a90-af02ee8ffe95"
      },
      "outputs": [
        {
          "data": {
            "text/html": [
              "<div>\n",
              "<style scoped>\n",
              "    .dataframe tbody tr th:only-of-type {\n",
              "        vertical-align: middle;\n",
              "    }\n",
              "\n",
              "    .dataframe tbody tr th {\n",
              "        vertical-align: top;\n",
              "    }\n",
              "\n",
              "    .dataframe thead th {\n",
              "        text-align: right;\n",
              "    }\n",
              "</style>\n",
              "<table border=\"1\" class=\"dataframe\">\n",
              "  <thead>\n",
              "    <tr style=\"text-align: right;\">\n",
              "      <th></th>\n",
              "      <th>sequence</th>\n",
              "      <th>class</th>\n",
              "    </tr>\n",
              "  </thead>\n",
              "  <tbody>\n",
              "    <tr>\n",
              "      <th>0</th>\n",
              "      <td>ATGCCCCAACTAAATACCGCCGTATGACCCACCATAATTACCCCCA...</td>\n",
              "      <td>4</td>\n",
              "    </tr>\n",
              "    <tr>\n",
              "      <th>1</th>\n",
              "      <td>ATGAACGAAAATCTATTCGCTTCATTCGCTGCCCCCACAATCCTAG...</td>\n",
              "      <td>4</td>\n",
              "    </tr>\n",
              "    <tr>\n",
              "      <th>2</th>\n",
              "      <td>ATGGCCTCGCGCTGGTGGCGGTGGCGACGCGGCTGCTCCTGGAGGC...</td>\n",
              "      <td>4</td>\n",
              "    </tr>\n",
              "    <tr>\n",
              "      <th>3</th>\n",
              "      <td>ATGGCCTCGCGCTGGTGGCGGTGGCGACGCGGCTGCTCCTGGAGGC...</td>\n",
              "      <td>4</td>\n",
              "    </tr>\n",
              "    <tr>\n",
              "      <th>4</th>\n",
              "      <td>ATGGGCAGCGCCAGCCCGGGTCTGAGCAGCGTGTCCCCCAGCCACC...</td>\n",
              "      <td>6</td>\n",
              "    </tr>\n",
              "  </tbody>\n",
              "</table>\n",
              "</div>"
            ],
            "text/plain": [
              "                                            sequence  class\n",
              "0  ATGCCCCAACTAAATACCGCCGTATGACCCACCATAATTACCCCCA...      4\n",
              "1  ATGAACGAAAATCTATTCGCTTCATTCGCTGCCCCCACAATCCTAG...      4\n",
              "2  ATGGCCTCGCGCTGGTGGCGGTGGCGACGCGGCTGCTCCTGGAGGC...      4\n",
              "3  ATGGCCTCGCGCTGGTGGCGGTGGCGACGCGGCTGCTCCTGGAGGC...      4\n",
              "4  ATGGGCAGCGCCAGCCCGGGTCTGAGCAGCGTGTCCCCCAGCCACC...      6"
            ]
          },
          "execution_count": 140,
          "metadata": {},
          "output_type": "execute_result"
        }
      ],
      "source": [
        "#printing first five rows of chimpanzee_data\n",
        "chimpanzee_data.head()"
      ]
    },
    {
      "cell_type": "code",
      "execution_count": null,
      "id": "e1e4605d",
      "metadata": {
        "id": "e1e4605d",
        "outputId": "5d60359b-6799-4f86-d59a-a15f33d258ef"
      },
      "outputs": [
        {
          "data": {
            "text/plain": [
              "[Text(0.5, 1.0, 'Classes distribution (chimpanzee)')]"
            ]
          },
          "execution_count": 141,
          "metadata": {},
          "output_type": "execute_result"
        },
        {
          "data": {
            "image/png": "[encoded data removed]",
            "text/plain": [
              "<Figure size 640x480 with 1 Axes>"
            ]
          },
          "metadata": {},
          "output_type": "display_data"
        }
      ],
      "source": [
        "#checking classes distribution with histogram\n",
        "sns.histplot(data=chimpanzee_data, x='class').set(title='Classes distribution (chimpanzee)')"
      ]
    },
    {
      "cell_type": "markdown",
      "id": "926844f7",
      "metadata": {
        "id": "926844f7"
      },
      "source": [
        "CLASSES HAVE IMBALANCED DISTRIBUTION WITHIN ALL THREE FILES (WITH CLASS 6 DOMINATING), HOWEVER THE DISTRIBUTIONS WITHIN ALL FILES ARE SIMILAR"
      ]
    },
    {
      "cell_type": "code",
      "execution_count": null,
      "id": "c1e10761",
      "metadata": {
        "id": "c1e10761",
        "outputId": "48610ba7-534b-4954-e099-ef144b0ebaba"
      },
      "outputs": [
        {
          "data": {
            "text/html": [
              "<div>\n",
              "<style scoped>\n",
              "    .dataframe tbody tr th:only-of-type {\n",
              "        vertical-align: middle;\n",
              "    }\n",
              "\n",
              "    .dataframe tbody tr th {\n",
              "        vertical-align: top;\n",
              "    }\n",
              "\n",
              "    .dataframe thead th {\n",
              "        text-align: right;\n",
              "    }\n",
              "</style>\n",
              "<table border=\"1\" class=\"dataframe\">\n",
              "  <thead>\n",
              "    <tr style=\"text-align: right;\">\n",
              "      <th></th>\n",
              "      <th>sequence</th>\n",
              "      <th>class</th>\n",
              "    </tr>\n",
              "  </thead>\n",
              "  <tbody>\n",
              "    <tr>\n",
              "      <th>34</th>\n",
              "      <td>NGGCAAACAAGAGAGAAAGCAAAATTTTCAGATGGAGAAAAGTGCC...</td>\n",
              "      <td>6</td>\n",
              "    </tr>\n",
              "    <tr>\n",
              "      <th>44</th>\n",
              "      <td>NTGCAGGTGATTTTCAAAGCCAAGTCAAAATATTCTCCAGAATTAC...</td>\n",
              "      <td>0</td>\n",
              "    </tr>\n",
              "    <tr>\n",
              "      <th>46</th>\n",
              "      <td>NNGTTAAACCTCAGCATCGGCGGCCCGGACTTCATGGATCATCCGT...</td>\n",
              "      <td>6</td>\n",
              "    </tr>\n",
              "    <tr>\n",
              "      <th>54</th>\n",
              "      <td>NGCCTCGCAGGCAGCACCAGCCTCATGCACAACCACGCGGCCCTCC...</td>\n",
              "      <td>6</td>\n",
              "    </tr>\n",
              "    <tr>\n",
              "      <th>59</th>\n",
              "      <td>NCCATGTCACTGGGCGGGCGGCACGCAGGCCTGGTTGGAGGCAGCC...</td>\n",
              "      <td>6</td>\n",
              "    </tr>\n",
              "    <tr>\n",
              "      <th>...</th>\n",
              "      <td>...</td>\n",
              "      <td>...</td>\n",
              "    </tr>\n",
              "    <tr>\n",
              "      <th>4266</th>\n",
              "      <td>NCCATCACCTTCTACCAGACACTGTGGGCCCGGCCCCGGAGGGCTC...</td>\n",
              "      <td>0</td>\n",
              "    </tr>\n",
              "    <tr>\n",
              "      <th>4270</th>\n",
              "      <td>NNTGCAGCCGCCTACCTGCTCCAGGGAAGCTTCTATGGCCACTCCA...</td>\n",
              "      <td>4</td>\n",
              "    </tr>\n",
              "    <tr>\n",
              "      <th>4311</th>\n",
              "      <td>NCTATGGATTCTTCTGCAGTTTATGTGTTAAGTAGTATGGCTCGCC...</td>\n",
              "      <td>6</td>\n",
              "    </tr>\n",
              "    <tr>\n",
              "      <th>4335</th>\n",
              "      <td>NACGCCTGGTGA</td>\n",
              "      <td>1</td>\n",
              "    </tr>\n",
              "    <tr>\n",
              "      <th>4359</th>\n",
              "      <td>NNTGCTGGTGGGCTGCAGCACAGGGTCACGGCAAAGACTGCACCAG...</td>\n",
              "      <td>2</td>\n",
              "    </tr>\n",
              "  </tbody>\n",
              "</table>\n",
              "<p>360 rows × 2 columns</p>\n",
              "</div>"
            ],
            "text/plain": [
              "                                               sequence  class\n",
              "34    NGGCAAACAAGAGAGAAAGCAAAATTTTCAGATGGAGAAAAGTGCC...      6\n",
              "44    NTGCAGGTGATTTTCAAAGCCAAGTCAAAATATTCTCCAGAATTAC...      0\n",
              "46    NNGTTAAACCTCAGCATCGGCGGCCCGGACTTCATGGATCATCCGT...      6\n",
              "54    NGCCTCGCAGGCAGCACCAGCCTCATGCACAACCACGCGGCCCTCC...      6\n",
              "59    NCCATGTCACTGGGCGGGCGGCACGCAGGCCTGGTTGGAGGCAGCC...      6\n",
              "...                                                 ...    ...\n",
              "4266  NCCATCACCTTCTACCAGACACTGTGGGCCCGGCCCCGGAGGGCTC...      0\n",
              "4270  NNTGCAGCCGCCTACCTGCTCCAGGGAAGCTTCTATGGCCACTCCA...      4\n",
              "4311  NCTATGGATTCTTCTGCAGTTTATGTGTTAAGTAGTATGGCTCGCC...      6\n",
              "4335                                       NACGCCTGGTGA      1\n",
              "4359  NNTGCTGGTGGGCTGCAGCACAGGGTCACGGCAAAGACTGCACCAG...      2\n",
              "\n",
              "[360 rows x 2 columns]"
            ]
          },
          "execution_count": 241,
          "metadata": {},
          "output_type": "execute_result"
        }
      ],
      "source": [
        "#some of the sequences contain N characters\n",
        "human_data[human_data['sequence'].str.contains('N')]"
      ]
    },
    {
      "cell_type": "markdown",
      "id": "b3d81134",
      "metadata": {
        "id": "b3d81134"
      },
      "source": [
        "SOME OF THE SEQUENCES CONTAIN N LETTER"
      ]
    },
    {
      "cell_type": "code",
      "execution_count": null,
      "id": "e7ea8532",
      "metadata": {
        "id": "e7ea8532",
        "outputId": "e3584591-92ef-4073-cf5d-18accba69ffb"
      },
      "outputs": [
        {
          "data": {
            "text/plain": [
              "True"
            ]
          },
          "execution_count": 242,
          "metadata": {},
          "output_type": "execute_result"
        }
      ],
      "source": [
        "#checking if number of sequences with N character is the same as the number of sequences starting with N character -> true\n",
        "len(human_data[human_data['sequence'].str.contains('N')])==len(human_data[human_data['sequence'].str.startswith('N')])"
      ]
    },
    {
      "cell_type": "markdown",
      "id": "4f9101af",
      "metadata": {
        "id": "4f9101af"
      },
      "source": [
        "NUMBER OF SEQUENCES WITH THE N LETTER IS THE SAME AS THE NUMBER OF SEQUENCES STARTING WITH N LETTER -> ASSUMING N APPEARS ONLY AT THE BEGINNING AND THEREFORE THE BEGINNING OF THOSE SENTENCES CAN BE CUT REPLACING N CHARACTERS WITH EMPTY STRING"
      ]
    },
    {
      "cell_type": "code",
      "execution_count": null,
      "id": "d9e0ee74",
      "metadata": {
        "id": "d9e0ee74"
      },
      "outputs": [],
      "source": [
        "#replacing all N characters with empty string ( = removing N letter)\n",
        "#this should not be a problem since i am sliding kmers anyway\n",
        "human_data.loc[human_data['sequence'].str.startswith('N'), 'sequence'] = human_data.loc[human_data['sequence'].str.startswith('N'), 'sequence'].str.replace('N', '')"
      ]
    },
    {
      "cell_type": "code",
      "execution_count": null,
      "id": "b1edcfe2",
      "metadata": {
        "id": "b1edcfe2",
        "outputId": "5c7a751c-1cdc-4274-9c0f-fa2ef9f6474a"
      },
      "outputs": [
        {
          "data": {
            "text/html": [
              "<div>\n",
              "<style scoped>\n",
              "    .dataframe tbody tr th:only-of-type {\n",
              "        vertical-align: middle;\n",
              "    }\n",
              "\n",
              "    .dataframe tbody tr th {\n",
              "        vertical-align: top;\n",
              "    }\n",
              "\n",
              "    .dataframe thead th {\n",
              "        text-align: right;\n",
              "    }\n",
              "</style>\n",
              "<table border=\"1\" class=\"dataframe\">\n",
              "  <thead>\n",
              "    <tr style=\"text-align: right;\">\n",
              "      <th></th>\n",
              "      <th>sequence</th>\n",
              "      <th>class</th>\n",
              "    </tr>\n",
              "  </thead>\n",
              "  <tbody>\n",
              "  </tbody>\n",
              "</table>\n",
              "</div>"
            ],
            "text/plain": [
              "Empty DataFrame\n",
              "Columns: [sequence, class]\n",
              "Index: []"
            ]
          },
          "execution_count": 244,
          "metadata": {},
          "output_type": "execute_result"
        }
      ],
      "source": [
        "#making sure there are no sequences with N letter left\n",
        "human_data[human_data['sequence'].str.contains('N')]"
      ]
    },
    {
      "cell_type": "markdown",
      "id": "415471b5",
      "metadata": {
        "id": "415471b5"
      },
      "source": [
        "FUNCTION TO GENERATE KMERS"
      ]
    },
    {
      "cell_type": "code",
      "execution_count": null,
      "id": "a00cbd5b",
      "metadata": {
        "id": "a00cbd5b"
      },
      "outputs": [],
      "source": [
        "#simple function to slide through sequence and create kmers\n",
        "def create_kmers(sequence, k=4):\n",
        "    return [sequence[i:i+k] for i in range(0,len(sequence)-k+1,1)]"
      ]
    },
    {
      "cell_type": "code",
      "execution_count": null,
      "id": "0adf89f4",
      "metadata": {
        "colab": {
          "base_uri": "https://localhost:8080/",
          "height": 53
        },
        "id": "0adf89f4",
        "outputId": "0c70e4c2-7c7f-4eda-f307-3b701fd6cd91"
      },
      "outputs": [
        {
          "output_type": "execute_result",
          "data": {
            "text/plain": [
              "'ATGCCCCAACTAAATACTACCGTATGGCCCACCATAATTACCCCCATACTCCTTACACTATTCCTCATCACCCAACTAAAAATATTAAACACAAACTACCACCTACCTCCCTCACCAAAGCCCATAAAAATAAAAAATTATAACAAACCCTGAGAACCAAAATGAACGAAAATCTGTTCGCTTCATTCATTGCCCCCACAATCCTAG'"
            ],
            "application/vnd.google.colaboratory.intrinsic+json": {
              "type": "string"
            }
          },
          "metadata": {},
          "execution_count": 10
        }
      ],
      "source": [
        "#taking first sequence to validate how function works\n",
        "sequence=human_data['sequence'].iloc[0]\n",
        "sequence"
      ]
    },
    {
      "cell_type": "code",
      "execution_count": null,
      "id": "b08a9959",
      "metadata": {
        "id": "b08a9959",
        "outputId": "a8d7e979-d0eb-4ef1-8d08-124c2ceabc30"
      },
      "outputs": [
        {
          "data": {
            "text/plain": [
              "['ATGC',\n",
              " 'TGCC',\n",
              " 'GCCC',\n",
              " 'CCCC',\n",
              " 'CCCA',\n",
              " 'CCAA',\n",
              " 'CAAC',\n",
              " 'AACT',\n",
              " 'ACTA',\n",
              " 'CTAA',\n",
              " 'TAAA',\n",
              " 'AAAT',\n",
              " 'AATA',\n",
              " 'ATAC',\n",
              " 'TACT',\n",
              " 'ACTA',\n",
              " 'CTAC',\n",
              " 'TACC',\n",
              " 'ACCG',\n",
              " 'CCGT',\n",
              " 'CGTA',\n",
              " 'GTAT',\n",
              " 'TATG',\n",
              " 'ATGG',\n",
              " 'TGGC',\n",
              " 'GGCC',\n",
              " 'GCCC',\n",
              " 'CCCA',\n",
              " 'CCAC',\n",
              " 'CACC',\n",
              " 'ACCA',\n",
              " 'CCAT',\n",
              " 'CATA',\n",
              " 'ATAA',\n",
              " 'TAAT',\n",
              " 'AATT',\n",
              " 'ATTA',\n",
              " 'TTAC',\n",
              " 'TACC',\n",
              " 'ACCC',\n",
              " 'CCCC',\n",
              " 'CCCC',\n",
              " 'CCCA',\n",
              " 'CCAT',\n",
              " 'CATA',\n",
              " 'ATAC',\n",
              " 'TACT',\n",
              " 'ACTC',\n",
              " 'CTCC',\n",
              " 'TCCT',\n",
              " 'CCTT',\n",
              " 'CTTA',\n",
              " 'TTAC',\n",
              " 'TACA',\n",
              " 'ACAC',\n",
              " 'CACT',\n",
              " 'ACTA',\n",
              " 'CTAT',\n",
              " 'TATT',\n",
              " 'ATTC',\n",
              " 'TTCC',\n",
              " 'TCCT',\n",
              " 'CCTC',\n",
              " 'CTCA',\n",
              " 'TCAT',\n",
              " 'CATC',\n",
              " 'ATCA',\n",
              " 'TCAC',\n",
              " 'CACC',\n",
              " 'ACCC',\n",
              " 'CCCA',\n",
              " 'CCAA',\n",
              " 'CAAC',\n",
              " 'AACT',\n",
              " 'ACTA',\n",
              " 'CTAA',\n",
              " 'TAAA',\n",
              " 'AAAA',\n",
              " 'AAAA',\n",
              " 'AAAT',\n",
              " 'AATA',\n",
              " 'ATAT',\n",
              " 'TATT',\n",
              " 'ATTA',\n",
              " 'TTAA',\n",
              " 'TAAA',\n",
              " 'AAAC',\n",
              " 'AACA',\n",
              " 'ACAC',\n",
              " 'CACA',\n",
              " 'ACAA',\n",
              " 'CAAA',\n",
              " 'AAAC',\n",
              " 'AACT',\n",
              " 'ACTA',\n",
              " 'CTAC',\n",
              " 'TACC',\n",
              " 'ACCA',\n",
              " 'CCAC',\n",
              " 'CACC',\n",
              " 'ACCT',\n",
              " 'CCTA',\n",
              " 'CTAC',\n",
              " 'TACC',\n",
              " 'ACCT',\n",
              " 'CCTC',\n",
              " 'CTCC',\n",
              " 'TCCC',\n",
              " 'CCCT',\n",
              " 'CCTC',\n",
              " 'CTCA',\n",
              " 'TCAC',\n",
              " 'CACC',\n",
              " 'ACCA',\n",
              " 'CCAA',\n",
              " 'CAAA',\n",
              " 'AAAG',\n",
              " 'AAGC',\n",
              " 'AGCC',\n",
              " 'GCCC',\n",
              " 'CCCA',\n",
              " 'CCAT',\n",
              " 'CATA',\n",
              " 'ATAA',\n",
              " 'TAAA',\n",
              " 'AAAA',\n",
              " 'AAAA',\n",
              " 'AAAT',\n",
              " 'AATA',\n",
              " 'ATAA',\n",
              " 'TAAA',\n",
              " 'AAAA',\n",
              " 'AAAA',\n",
              " 'AAAA',\n",
              " 'AAAT',\n",
              " 'AATT',\n",
              " 'ATTA',\n",
              " 'TTAT',\n",
              " 'TATA',\n",
              " 'ATAA',\n",
              " 'TAAC',\n",
              " 'AACA',\n",
              " 'ACAA',\n",
              " 'CAAA',\n",
              " 'AAAC',\n",
              " 'AACC',\n",
              " 'ACCC',\n",
              " 'CCCT',\n",
              " 'CCTG',\n",
              " 'CTGA',\n",
              " 'TGAG',\n",
              " 'GAGA',\n",
              " 'AGAA',\n",
              " 'GAAC',\n",
              " 'AACC',\n",
              " 'ACCA',\n",
              " 'CCAA',\n",
              " 'CAAA',\n",
              " 'AAAA',\n",
              " 'AAAT',\n",
              " 'AATG',\n",
              " 'ATGA',\n",
              " 'TGAA',\n",
              " 'GAAC',\n",
              " 'AACG',\n",
              " 'ACGA',\n",
              " 'CGAA',\n",
              " 'GAAA',\n",
              " 'AAAA',\n",
              " 'AAAT',\n",
              " 'AATC',\n",
              " 'ATCT',\n",
              " 'TCTG',\n",
              " 'CTGT',\n",
              " 'TGTT',\n",
              " 'GTTC',\n",
              " 'TTCG',\n",
              " 'TCGC',\n",
              " 'CGCT',\n",
              " 'GCTT',\n",
              " 'CTTC',\n",
              " 'TTCA',\n",
              " 'TCAT',\n",
              " 'CATT',\n",
              " 'ATTC',\n",
              " 'TTCA',\n",
              " 'TCAT',\n",
              " 'CATT',\n",
              " 'ATTG',\n",
              " 'TTGC',\n",
              " 'TGCC',\n",
              " 'GCCC',\n",
              " 'CCCC',\n",
              " 'CCCC',\n",
              " 'CCCA',\n",
              " 'CCAC',\n",
              " 'CACA',\n",
              " 'ACAA',\n",
              " 'CAAT',\n",
              " 'AATC',\n",
              " 'ATCC',\n",
              " 'TCCT',\n",
              " 'CCTA',\n",
              " 'CTAG']"
            ]
          },
          "execution_count": 79,
          "metadata": {},
          "output_type": "execute_result"
        }
      ],
      "source": [
        "#creating example kmers\n",
        "create_kmers(sequence, k=4)"
      ]
    },
    {
      "cell_type": "markdown",
      "id": "53b10e35",
      "metadata": {
        "id": "53b10e35"
      },
      "source": [
        "SEARCHING FOR BEST K VALUE"
      ]
    },
    {
      "cell_type": "code",
      "execution_count": null,
      "id": "df1f346d",
      "metadata": {
        "id": "df1f346d"
      },
      "outputs": [],
      "source": [
        "#function to find k value with best results\n",
        "def find_best_k(k):\n",
        "    #creating kmers\n",
        "    human_data['kmers']=human_data.apply(lambda row: create_kmers(row['sequence'], k=k), axis=1)\n",
        "    #converting substrings with kmers into one string with kmers separated with space\n",
        "    flattened_words = [' '.join(words) for words in human_data['kmers']]\n",
        "    #preparing vectorizer\n",
        "    vectorizer = TfidfVectorizer(analyzer='word', ngram_range=(k, k))\n",
        "    #transforming flattened kmers - getting input for machine learning classifier\n",
        "    X = vectorizer.fit_transform(flattened_words)\n",
        "    #preparing labels for machine learning classifier\n",
        "    y=human_data['class']\n",
        "    #creating train and testing sets for classifier\n",
        "    X_train, X_test, y_train, y_test = train_test_split(X, y, test_size=0.2, random_state=42)\n",
        "    #initializing classifier - alternatively this could be done outside this function\n",
        "    classifier = MultinomialNB(alpha=0.1)\n",
        "    #training classifier on train data\n",
        "    classifier.fit(X_train, y_train)\n",
        "    #making predictions from test data\n",
        "    y_pred = classifier.predict(X_test)\n",
        "    #measuring performance\n",
        "    acc=accuracy_score(y_test, y_pred)\n",
        "    prec=precision_score(y_test, y_pred, average='weighted')\n",
        "    recall = recall_score(y_test, y_pred, average='weighted')\n",
        "    f1 = f1_score(y_test, y_pred, average='weighted')\n",
        "    #printing results\n",
        "    print('-------------------------------------------------')\n",
        "    print(f'results for k = {k}:')\n",
        "    print(f'accuracy: {acc}')\n",
        "    print(f'precision: {prec}')\n",
        "    print(f'recall: {recall}')\n",
        "    print(f'f1 score: {f1}')"
      ]
    },
    {
      "cell_type": "code",
      "execution_count": null,
      "id": "eb2837d2",
      "metadata": {
        "colab": {
          "base_uri": "https://localhost:8080/"
        },
        "id": "eb2837d2",
        "outputId": "333b7ae8-25d6-4f31-e7bf-b846ec5eccc4"
      },
      "outputs": [
        {
          "output_type": "stream",
          "name": "stderr",
          "text": [
            "/usr/local/lib/python3.10/dist-packages/sklearn/metrics/_classification.py:1344: UndefinedMetricWarning: Precision is ill-defined and being set to 0.0 in labels with no predicted samples. Use `zero_division` parameter to control this behavior.\n",
            "  _warn_prf(average, modifier, msg_start, len(result))\n"
          ]
        },
        {
          "output_type": "stream",
          "name": "stdout",
          "text": [
            "-------------------------------------------------\n",
            "results for k = 3:\n",
            "accuracy: 0.5422374429223744\n",
            "precision: 0.5530364629229085\n",
            "recall: 0.5422374429223744\n",
            "f1 score: 0.5106645109307756\n",
            "-------------------------------------------------\n",
            "results for k = 4:\n",
            "accuracy: 0.8755707762557078\n",
            "precision: 0.8860709446010937\n",
            "recall: 0.8755707762557078\n",
            "f1 score: 0.8758640057364483\n",
            "-------------------------------------------------\n",
            "results for k = 5:\n",
            "accuracy: 0.9771689497716894\n",
            "precision: 0.9774078617610776\n",
            "recall: 0.9771689497716894\n",
            "f1 score: 0.9771676697024606\n",
            "-------------------------------------------------\n",
            "results for k = 6:\n",
            "accuracy: 0.9726027397260274\n",
            "precision: 0.9745044722378332\n",
            "recall: 0.9726027397260274\n",
            "f1 score: 0.9730347113564927\n",
            "-------------------------------------------------\n",
            "results for k = 7:\n",
            "accuracy: 0.9657534246575342\n",
            "precision: 0.9735678806328126\n",
            "recall: 0.9657534246575342\n",
            "f1 score: 0.9676597898449809\n"
          ]
        }
      ],
      "source": [
        "#initializing list of k values to try\n",
        "k_range=[3, 4, 5, 6, 7]\n",
        "for k in k_range:\n",
        "    #checking the performance for given k\n",
        "    find_best_k(k)"
      ]
    },
    {
      "cell_type": "markdown",
      "id": "f79655fd",
      "metadata": {
        "id": "f79655fd"
      },
      "source": [
        "REFITTING MODEL FOR BEST K"
      ]
    },
    {
      "cell_type": "code",
      "execution_count": null,
      "id": "e1966c8c",
      "metadata": {
        "colab": {
          "base_uri": "https://localhost:8080/",
          "height": 74
        },
        "id": "e1966c8c",
        "outputId": "a86f810b-60c4-4f1f-a09b-43cc9e18da4a"
      },
      "outputs": [
        {
          "output_type": "execute_result",
          "data": {
            "text/plain": [
              "MultinomialNB(alpha=0.1)"
            ],
            "text/html": [
              "<style>#sk-container-id-1 {color: black;background-color: white;}#sk-container-id-1 pre{padding: 0;}#sk-container-id-1 div.sk-toggleable {background-color: white;}#sk-container-id-1 label.sk-toggleable__label {cursor: pointer;display: block;width: 100%;margin-bottom: 0;padding: 0.3em;box-sizing: border-box;text-align: center;}#sk-container-id-1 label.sk-toggleable__label-arrow:before {content: \"▸\";float: left;margin-right: 0.25em;color: #696969;}#sk-container-id-1 label.sk-toggleable__label-arrow:hover:before {color: black;}#sk-container-id-1 div.sk-estimator:hover label.sk-toggleable__label-arrow:before {color: black;}#sk-container-id-1 div.sk-toggleable__content {max-height: 0;max-width: 0;overflow: hidden;text-align: left;background-color: #f0f8ff;}#sk-container-id-1 div.sk-toggleable__content pre {margin: 0.2em;color: black;border-radius: 0.25em;background-color: #f0f8ff;}#sk-container-id-1 input.sk-toggleable__control:checked~div.sk-toggleable__content {max-height: 200px;max-width: 100%;overflow: auto;}#sk-container-id-1 input.sk-toggleable__control:checked~label.sk-toggleable__label-arrow:before {content: \"▾\";}#sk-container-id-1 div.sk-estimator input.sk-toggleable__control:checked~label.sk-toggleable__label {background-color: #d4ebff;}#sk-container-id-1 div.sk-label input.sk-toggleable__control:checked~label.sk-toggleable__label {background-color: #d4ebff;}#sk-container-id-1 input.sk-hidden--visually {border: 0;clip: rect(1px 1px 1px 1px);clip: rect(1px, 1px, 1px, 1px);height: 1px;margin: -1px;overflow: hidden;padding: 0;position: absolute;width: 1px;}#sk-container-id-1 div.sk-estimator {font-family: monospace;background-color: #f0f8ff;border: 1px dotted black;border-radius: 0.25em;box-sizing: border-box;margin-bottom: 0.5em;}#sk-container-id-1 div.sk-estimator:hover {background-color: #d4ebff;}#sk-container-id-1 div.sk-parallel-item::after {content: \"\";width: 100%;border-bottom: 1px solid gray;flex-grow: 1;}#sk-container-id-1 div.sk-label:hover label.sk-toggleable__label {background-color: #d4ebff;}#sk-container-id-1 div.sk-serial::before {content: \"\";position: absolute;border-left: 1px solid gray;box-sizing: border-box;top: 0;bottom: 0;left: 50%;z-index: 0;}#sk-container-id-1 div.sk-serial {display: flex;flex-direction: column;align-items: center;background-color: white;padding-right: 0.2em;padding-left: 0.2em;position: relative;}#sk-container-id-1 div.sk-item {position: relative;z-index: 1;}#sk-container-id-1 div.sk-parallel {display: flex;align-items: stretch;justify-content: center;background-color: white;position: relative;}#sk-container-id-1 div.sk-item::before, #sk-container-id-1 div.sk-parallel-item::before {content: \"\";position: absolute;border-left: 1px solid gray;box-sizing: border-box;top: 0;bottom: 0;left: 50%;z-index: -1;}#sk-container-id-1 div.sk-parallel-item {display: flex;flex-direction: column;z-index: 1;position: relative;background-color: white;}#sk-container-id-1 div.sk-parallel-item:first-child::after {align-self: flex-end;width: 50%;}#sk-container-id-1 div.sk-parallel-item:last-child::after {align-self: flex-start;width: 50%;}#sk-container-id-1 div.sk-parallel-item:only-child::after {width: 0;}#sk-container-id-1 div.sk-dashed-wrapped {border: 1px dashed gray;margin: 0 0.4em 0.5em 0.4em;box-sizing: border-box;padding-bottom: 0.4em;background-color: white;}#sk-container-id-1 div.sk-label label {font-family: monospace;font-weight: bold;display: inline-block;line-height: 1.2em;}#sk-container-id-1 div.sk-label-container {text-align: center;}#sk-container-id-1 div.sk-container {/* jupyter's `normalize.less` sets `[hidden] { display: none; }` but bootstrap.min.css set `[hidden] { display: none !important; }` so we also need the `!important` here to be able to override the default hidden behavior on the sphinx rendered scikit-learn.org. See: https://github.com/scikit-learn/scikit-learn/issues/21755 */display: inline-block !important;position: relative;}#sk-container-id-1 div.sk-text-repr-fallback {display: none;}</style><div id=\"sk-container-id-1\" class=\"sk-top-container\"><div class=\"sk-text-repr-fallback\"><pre>MultinomialNB(alpha=0.1)</pre><b>In a Jupyter environment, please rerun this cell to show the HTML representation or trust the notebook. <br />On GitHub, the HTML representation is unable to render, please try loading this page with nbviewer.org.</b></div><div class=\"sk-container\" hidden><div class=\"sk-item\"><div class=\"sk-estimator sk-toggleable\"><input class=\"sk-toggleable__control sk-hidden--visually\" id=\"sk-estimator-id-1\" type=\"checkbox\" checked><label for=\"sk-estimator-id-1\" class=\"sk-toggleable__label sk-toggleable__label-arrow\">MultinomialNB</label><div class=\"sk-toggleable__content\"><pre>MultinomialNB(alpha=0.1)</pre></div></div></div></div></div>"
            ]
          },
          "metadata": {},
          "execution_count": 27
        }
      ],
      "source": [
        "#assigning k value to one with best results\n",
        "k=5\n",
        "#creating kmers of k length\n",
        "human_data['kmers']=human_data.apply(lambda row: create_kmers(row['sequence'], k=k), axis=1)\n",
        "#flattening kmers to one substring of kmers separated with space\n",
        "flattened_words = [' '.join(words) for words in human_data['kmers']]\n",
        "#initializing vectorizer\n",
        "vectorizer = TfidfVectorizer(analyzer='word', ngram_range=(k, k))\n",
        "#transforming flattened kmers\n",
        "X = vectorizer.fit_transform(flattened_words)\n",
        "y=human_data['class']\n",
        "#reinitializing classifier\n",
        "classifier = MultinomialNB(alpha=0.1)\n",
        "#training data - this time whole human_data is taken as i am going to use dog_data and chimpanzee_data as testing sets\n",
        "classifier.fit(X, y) "
      ]
    },
    {
      "cell_type": "code",
      "execution_count": null,
      "id": "e3b5bf47",
      "metadata": {
        "colab": {
          "base_uri": "https://localhost:8080/"
        },
        "id": "e3b5bf47",
        "outputId": "54e3a9d3-d8ca-47e9-b2b3-cab3732fa970"
      },
      "outputs": [
        {
          "output_type": "stream",
          "name": "stdout",
          "text": [
            "results for dog data:\n",
            "accuracy: 0.9548780487804878\n",
            "precision: 0.9562556066634071\n",
            "recall: 0.9548780487804878\n",
            "f1 score: 0.9551268020781525\n"
          ]
        }
      ],
      "source": [
        "#TESTING ON DOG DATA\n",
        "#creating kmers\n",
        "dog_data['kmers']=dog_data.apply(lambda row: create_kmers(row['sequence'], k=k), axis=1)\n",
        "#flattening\n",
        "flattened_words_dog = [' '.join(words) for words in dog_data['kmers']]\n",
        "#transforming\n",
        "X_dog = vectorizer.transform(flattened_words_dog)\n",
        "#labels\n",
        "y_dog = dog_data['class']\n",
        "#making predictions\n",
        "y_pred_d = classifier.predict(X_dog)\n",
        "#measuring performance\n",
        "acc_d=accuracy_score(y_dog, y_pred_d)\n",
        "prec_d=precision_score(y_dog, y_pred_d, average='weighted')\n",
        "recall_d = recall_score(y_dog, y_pred_d, average='weighted')\n",
        "f1_d = f1_score(y_dog, y_pred_d, average='weighted')\n",
        "#printing results\n",
        "print('results for dog data:')\n",
        "print(f'accuracy: {acc_d}')\n",
        "print(f'precision: {prec_d}')\n",
        "print(f'recall: {recall_d}')\n",
        "print(f'f1 score: {f1_d}')"
      ]
    },
    {
      "cell_type": "code",
      "execution_count": null,
      "id": "a656f184",
      "metadata": {
        "id": "a656f184",
        "outputId": "4c8500ad-c7ff-4474-d349-59d6a36bb90d"
      },
      "outputs": [
        {
          "data": {
            "image/png": "[encoded data removed]",
            "text/plain": [
              "<Figure size 800x600 with 2 Axes>"
            ]
          },
          "metadata": {},
          "output_type": "display_data"
        }
      ],
      "source": [
        "#initializing confusion matrix\n",
        "cm = confusion_matrix(y_dog, y_pred_d)\n",
        "#getting labels for confusion matrix\n",
        "class_labels = sorted(set(y_dog))\n",
        "#setting size of confusion matrix image\n",
        "plt.figure(figsize=(8, 6))\n",
        "#calling confusion matrix (in form of heatmap)\n",
        "sns.heatmap(cm, annot=True, fmt='d', cmap='Blues',\n",
        "            xticklabels=class_labels, yticklabels=class_labels)\n",
        "plt.title('Confusion Matrix')\n",
        "plt.xlabel('Predicted Labels')\n",
        "plt.ylabel('True Labels')\n",
        "plt.show()"
      ]
    },
    {
      "cell_type": "code",
      "execution_count": null,
      "id": "31e56e74",
      "metadata": {
        "id": "31e56e74",
        "outputId": "322fb5b5-e57a-455c-e9af-930753ee77f0"
      },
      "outputs": [
        {
          "name": "stdout",
          "output_type": "stream",
          "text": [
            "results for chimpanzee data:\n",
            "accuracy: 0.9988109393579072\n",
            "precision: 0.9988132085576059\n",
            "recall: 0.9988109393579072\n",
            "f1 score: 0.9988104719754256\n"
          ]
        }
      ],
      "source": [
        "#TESTING ON CHIMPANZEE DATA\n",
        "#creating kmers\n",
        "chimpanzee_data['kmers']=chimpanzee_data.apply(lambda row: create_kmers(row['sequence'], k=k), axis=1)\n",
        "#flattening\n",
        "flattened_words_chimpanzee = [' '.join(words) for words in chimpanzee_data['kmers']]\n",
        "#transforming\n",
        "X_chimpanzee = vectorizer.transform(flattened_words_chimpanzee)\n",
        "#labels\n",
        "y_chimpanzee = chimpanzee_data['class']\n",
        "#making predictions\n",
        "y_pred_ch = classifier.predict(X_chimpanzee)\n",
        "#measuring performance\n",
        "acc_ch=accuracy_score(y_chimpanzee, y_pred_ch)\n",
        "prec_ch=precision_score(y_chimpanzee, y_pred_ch, average='weighted')\n",
        "recall_ch = recall_score(y_chimpanzee, y_pred_ch, average='weighted')\n",
        "f1_ch = f1_score(y_chimpanzee, y_pred_ch, average='weighted')\n",
        "#printing results\n",
        "print('results for chimpanzee data:')\n",
        "print(f'accuracy: {acc_ch}')\n",
        "print(f'precision: {prec_ch}')\n",
        "print(f'recall: {recall_ch}')\n",
        "print(f'f1 score: {f1_ch}')"
      ]
    },
    {
      "cell_type": "code",
      "execution_count": null,
      "id": "d35abaa9",
      "metadata": {
        "id": "d35abaa9",
        "outputId": "24fbaa25-292c-46c2-eaaf-f365604f94d7"
      },
      "outputs": [
        {
          "data": {
            "image/png": "[encoded data removed]",
            "text/plain": [
              "<Figure size 800x600 with 2 Axes>"
            ]
          },
          "metadata": {},
          "output_type": "display_data"
        }
      ],
      "source": [
        "#initializing confusion matrix\n",
        "cm = confusion_matrix(y_chimpanzee, y_pred_ch)\n",
        "#getting labels for confusion matrix\n",
        "class_labels = sorted(set(y_chimpanzee))\n",
        "#setting size of confusion matrix image\n",
        "plt.figure(figsize=(8, 6))\n",
        "#calling confusion matrix (in form of heatmap)\n",
        "sns.heatmap(cm, annot=True, fmt='d', cmap='Blues',\n",
        "            xticklabels=class_labels, yticklabels=class_labels)\n",
        "plt.title('Confusion Matrix')\n",
        "plt.xlabel('Predicted Labels')\n",
        "plt.ylabel('True Labels')\n",
        "plt.show()"
      ]
    },
    {
      "cell_type": "markdown",
      "id": "d5c8b02c",
      "metadata": {
        "id": "d5c8b02c"
      },
      "source": [
        "ONLY TWO SAMPLES FROM CHIMPANZEE DATA HAVE BEEN MISSCLASSIFIED (MODEL WAS TRAINED PURELY ON HUMAN DATA)"
      ]
    },
    {
      "cell_type": "markdown",
      "id": "62f50fad",
      "metadata": {
        "id": "62f50fad"
      },
      "source": [
        "SUMMARY:\n",
        "<pre>\n",
        "                    HUMAN                     DOG                 CHIMPANZEE\n",
        "accuracy:     0.9771689497716894      0.9548780487804878      0.9988109393579072\n",
        "precision:    0.9774078617610776      0.9562556066634071      0.9988132085576059\n",
        "recall:       0.9771689497716894      0.9548780487804878      0.9988109393579072\n",
        "f1 score:     0.9771676697024606      0.9551268020781525      0.9988104719754256"
      ]
    }
  ],
  "metadata": {
    "kernelspec": {
      "display_name": "Python 3 (ipykernel)",
      "language": "python",
      "name": "python3"
    },
    "language_info": {
      "codemirror_mode": {
        "name": "ipython",
        "version": 3
      },
      "file_extension": ".py",
      "mimetype": "text/x-python",
      "name": "python",
      "nbconvert_exporter": "python",
      "pygments_lexer": "ipython3",
      "version": "3.9.13"
    },
    "colab": {
      "provenance": []
    }
  },
  "nbformat": 4,
  "nbformat_minor": 5
}